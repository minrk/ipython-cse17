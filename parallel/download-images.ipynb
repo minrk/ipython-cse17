{
 "cells": [
  {
   "cell_type": "markdown",
   "metadata": {},
   "source": [
    "# Downloading images from Wikimedia Commons"
   ]
  },
  {
   "cell_type": "markdown",
   "metadata": {},
   "source": [
    "This notebook defines a few functions to download images with specified search terms from Wikimedia, via the mediawiki search API.\n",
    "\n",
    "The results are used in the [Parallel face detection notebook](Parallel%20face%20detection.ipynb).\n",
    "\n",
    "For some caching, you can use requests_cache:\n",
    "\n",
    "    pip install requests_cache"
   ]
  },
  {
   "cell_type": "code",
   "execution_count": null,
   "metadata": {
    "collapsed": false
   },
   "outputs": [],
   "source": [
    "import sys, os\n",
    "\n",
    "import requests\n",
    "try:\n",
    "    import requests_cache\n",
    "except ImportError:\n",
    "    print(\"no cache, no worries\")\n",
    "else:\n",
    "    requests_cache.install_cache(\"mediawiki\")\n",
    "\n",
    "api_url = \"http://commons.wikimedia.org/w/api.php\""
   ]
  },
  {
   "cell_type": "code",
   "execution_count": null,
   "metadata": {
    "collapsed": false
   },
   "outputs": [],
   "source": [
    "def api_request(**kwargs):\n",
    "    \"\"\"Make a request of the Wikimedia Commons API\n",
    "    \n",
    "    Returns data after parsing JSON\n",
    "    \"\"\"\n",
    "    sys.stdout.write('.')\n",
    "    sys.stdout.flush()\n",
    "    \n",
    "\n",
    "    params = dict(\n",
    "        action='query',\n",
    "        format='json',\n",
    "    )\n",
    "    params.update(kwargs)\n",
    "    r = requests.get(api_url, params=params)\n",
    "    r.raise_for_status()\n",
    "    return r.json()\n",
    "\n",
    "\n",
    "import json\n",
    "\n",
    "def search_images(search, limit=100, size_limit=2e6):\n",
    "    \"\"\"search wikimedia commons for a given term\n",
    "    \n",
    "    returns a list of `limit` URLs for images\n",
    "    \"\"\"\n",
    "    continue_params = {}\n",
    "    while limit > 0:\n",
    "        data = api_request(\n",
    "                srnamespace=6,\n",
    "                prop='imageinfo',\n",
    "                list='search',\n",
    "                srsearch=search,\n",
    "                srlimit=min(limit, 50),\n",
    "                **continue_params\n",
    "        )\n",
    "#         continue_params = data['query-continue']['search']\n",
    "        continue_params = data['continue']\n",
    "\n",
    "        total = data['query']['searchinfo']['totalhits']\n",
    "        results = data['query']['search']\n",
    "        for r in results:\n",
    "            title = r['title']\n",
    "            \n",
    "            data = api_request(\n",
    "                            prop='imageinfo',\n",
    "                            titles=title,\n",
    "                            iiprop='url|size|mime')\n",
    "            imageinfo = list(data['query']['pages'].values())[0]['imageinfo'][0]\n",
    "            if imageinfo['mime'] in ('image/png', 'image/jpeg') and imageinfo['size'] <= size_limit:\n",
    "                yield imageinfo['url']\n",
    "                limit -= 1\n",
    "                if limit <= 0:\n",
    "                    return\n",
    "#             else:\n",
    "#                 import pprint\n",
    "#                 pprint.pprint(imageinfo)\n"
   ]
  },
  {
   "cell_type": "code",
   "execution_count": null,
   "metadata": {
    "collapsed": false
   },
   "outputs": [],
   "source": [
    "def download_images(search, n):\n",
    "    \"\"\"download images from mediawiki commons to folders based on the search term\"\"\"\n",
    "    if not os.path.exists('images'):\n",
    "        os.mkdir('images')\n",
    "    tagdir = os.path.join('images', search)\n",
    "    if not os.path.exists(tagdir):\n",
    "        os.mkdir(tagdir)\n",
    "    for url in search_images(search, n):\n",
    "        r = requests.get(url)\n",
    "        fname = url.rsplit('/')[-1]\n",
    "        dest = os.path.join(tagdir, fname)\n",
    "        # print(\"downloading %s => %s\" % (url, dest))\n",
    "        sys.stdout.write('+')\n",
    "        sys.stdout.flush()\n",
    "        with open(dest, 'wb') as f:\n",
    "            f.write(r.content)"
   ]
  },
  {
   "cell_type": "code",
   "execution_count": null,
   "metadata": {
    "collapsed": false
   },
   "outputs": [],
   "source": [
    "download_images('castle', 100)"
   ]
  },
  {
   "cell_type": "code",
   "execution_count": null,
   "metadata": {
    "collapsed": false
   },
   "outputs": [],
   "source": [
    "download_images('portrait', 100)"
   ]
  },
  {
   "cell_type": "code",
   "execution_count": null,
   "metadata": {
    "collapsed": false
   },
   "outputs": [],
   "source": [
    "download_images('face', 100)"
   ]
  },
  {
   "cell_type": "code",
   "execution_count": null,
   "metadata": {
    "collapsed": true
   },
   "outputs": [],
   "source": [
    "download_images('child', 100)"
   ]
  }
 ],
 "metadata": {
  "kernelspec": {
   "display_name": "Python 3",
   "language": "python",
   "name": "python3"
  },
  "language_info": {
   "codemirror_mode": {
    "name": "ipython",
    "version": 3
   },
   "file_extension": ".py",
   "mimetype": "text/x-python",
   "name": "python",
   "nbconvert_exporter": "python",
   "pygments_lexer": "ipython3",
   "version": "3.5.1"
  },
  "widgets": {
   "state": {},
   "version": "1.1.1"
  }
 },
 "nbformat": 4,
 "nbformat_minor": 0
}
