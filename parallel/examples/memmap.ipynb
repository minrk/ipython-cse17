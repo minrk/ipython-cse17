{
 "cells": [
  {
   "cell_type": "markdown",
   "metadata": {},
   "source": [
    "# More efficient broadcast of arrays with memmap"
   ]
  },
  {
   "cell_type": "markdown",
   "metadata": {},
   "source": [
    "Data movement is where IPython's naïve model suffers the most.\n",
    "But knowing about your cluster lets you make smarter decisions about data movement than a simple `rc[:].push`."
   ]
  },
  {
   "cell_type": "code",
   "execution_count": 1,
   "metadata": {
    "collapsed": false
   },
   "outputs": [],
   "source": [
    "import socket\n",
    "import os, sys, re\n",
    "\n",
    "import numpy as np\n",
    "\n",
    "import ipyparallel as parallel"
   ]
  },
  {
   "cell_type": "code",
   "execution_count": 2,
   "metadata": {
    "collapsed": false
   },
   "outputs": [],
   "source": [
    "#rc = parallel.Client(profile='dirac')\n",
    "rc = parallel.Client()\n",
    "eall = rc[:]"
   ]
  },
  {
   "cell_type": "code",
   "execution_count": 3,
   "metadata": {
    "collapsed": false
   },
   "outputs": [],
   "source": [
    "engine_hosts = eall.apply_async(socket.gethostname).get_dict()\n",
    "engine_hosts"
   ]
  },
  {
   "cell_type": "code",
   "execution_count": null,
   "metadata": {
    "collapsed": false
   },
   "outputs": [],
   "source": [
    "host_engines = {}\n",
    "\n",
    "for eid, host in engine_hosts.items():\n",
    "    if host not in host_engines:\n",
    "        host_engines[host] = []\n",
    "    host_engines[host].append(eid)\n",
    "\n",
    "host_engines"
   ]
  },
  {
   "cell_type": "code",
   "execution_count": null,
   "metadata": {
    "collapsed": false
   },
   "outputs": [],
   "source": [
    "sz = 256\n",
    "data = np.random.random((sz,sz))\n",
    "data = data.dot(data.T)"
   ]
  },
  {
   "cell_type": "code",
   "execution_count": null,
   "metadata": {
    "collapsed": false
   },
   "outputs": [],
   "source": [
    "%time _ = rc[:].apply_sync(lambda : None)"
   ]
  },
  {
   "cell_type": "code",
   "execution_count": null,
   "metadata": {
    "collapsed": false
   },
   "outputs": [],
   "source": [
    "ar = rc[:].push({'data': data}, block=False)\n",
    "ar.wait_interactive()"
   ]
  },
  {
   "cell_type": "code",
   "execution_count": null,
   "metadata": {
    "collapsed": false
   },
   "outputs": [],
   "source": [
    "%px import numpy as np"
   ]
  },
  {
   "cell_type": "code",
   "execution_count": null,
   "metadata": {
    "collapsed": false
   },
   "outputs": [],
   "source": [
    "def array_to_file(A):\n",
    "    \"\"\"write an array to a temporary file, return its filename\"\"\"\n",
    "    import tempfile\n",
    "    with tempfile.NamedTemporaryFile(suffix='.np', delete=False) as tf:\n",
    "        np.save(tf, data)\n",
    "        data_path = tf.name\n",
    "    return data_path"
   ]
  },
  {
   "cell_type": "code",
   "execution_count": null,
   "metadata": {
    "collapsed": false
   },
   "outputs": [],
   "source": [
    "@parallel.interactive\n",
    "def load_memmap(name, path, mode='r+'):\n",
    "    \"\"\"load a file on disk into the interactive namespace as a memmapped array\"\"\"\n",
    "    globals()[name] = np.memmap(path, mode=mode)"
   ]
  },
  {
   "cell_type": "code",
   "execution_count": null,
   "metadata": {
    "collapsed": false
   },
   "outputs": [],
   "source": [
    "def bcast_memmap(data, name, client, host_engines):\n",
    "    \"\"\"broadcast a numpy array efficiently\n",
    "    \n",
    "    - sends data to each remote host only once\n",
    "    - loads with memmap everywhere\n",
    "    \"\"\"\n",
    "\n",
    "    # actually push the data, just once to each machine\n",
    "\n",
    "    local_filename = None\n",
    "    filenames_ars = {}\n",
    "    for host, engines in host_engines.items():\n",
    "        h0 = engines[0]\n",
    "        if host == socket.gethostname():\n",
    "            # Don't push at all to local engines\n",
    "            local_filename = array_to_file(data)\n",
    "        else:\n",
    "            filenames_ars[host] = rc[h0].apply_async(array_to_file, data)\n",
    "\n",
    "    # load the data on all engines into a memmapped array\n",
    "    msg_ids = []\n",
    "    for host, engines in host_engines.items():\n",
    "        if host == socket.gethostname():\n",
    "            filename = local_filename\n",
    "        else:\n",
    "            filename = filenames_ars[host].get()\n",
    "        ar = rc[engines].apply_async(load_memmap, name, filename)\n",
    "        msg_ids.extend(ar.msg_ids)\n",
    "    \n",
    "    return parallel.AsyncResult(client, msg_ids=msg_ids)"
   ]
  },
  {
   "cell_type": "code",
   "execution_count": null,
   "metadata": {
    "collapsed": false
   },
   "outputs": [],
   "source": [
    "%%time\n",
    "ar = bcast_memmap(data, 'data', rc, host_engines)\n",
    "ar.wait_interactive()"
   ]
  },
  {
   "cell_type": "code",
   "execution_count": null,
   "metadata": {
    "collapsed": false
   },
   "outputs": [],
   "source": [
    "%px np.linalg.norm(data, 2)"
   ]
  },
  {
   "cell_type": "markdown",
   "metadata": {},
   "source": [
    "You can also do the same thing [with MPI](MPI Broadcast.ipynb)."
   ]
  }
 ],
 "metadata": {
  "kernelspec": {
   "display_name": "Python 3",
   "language": "python",
   "name": "python3"
  },
  "language_info": {
   "codemirror_mode": {
    "name": "ipython",
    "version": 3
   },
   "file_extension": ".py",
   "mimetype": "text/x-python",
   "name": "python",
   "nbconvert_exporter": "python",
   "pygments_lexer": "ipython3",
   "version": "3.4.3"
  }
 },
 "nbformat": 4,
 "nbformat_minor": 0
}
