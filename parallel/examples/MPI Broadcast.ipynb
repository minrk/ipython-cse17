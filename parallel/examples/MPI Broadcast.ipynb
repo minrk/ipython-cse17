{
 "cells": [
  {
   "cell_type": "markdown",
   "metadata": {},
   "source": [
    "# More efficient data movement with MPI"
   ]
  },
  {
   "cell_type": "markdown",
   "metadata": {},
   "source": [
    "Just like [we did](memmap.ipynb) manually with memmap,\n",
    "you can move data more efficiently with MPI by sending it to just one engine,\n",
    "and using MPI to broadcast it to the rest of the engines.\n"
   ]
  },
  {
   "cell_type": "code",
   "execution_count": 1,
   "metadata": {},
   "outputs": [],
   "source": [
    "import socket\n",
    "import os, sys, re\n",
    "\n",
    "import numpy as np\n",
    "\n",
    "import ipyparallel as parallel"
   ]
  },
  {
   "cell_type": "markdown",
   "metadata": {},
   "source": [
    "For this demo, I will connect to a cluster with engines started with MPI.\n",
    "If you have MPI and mpi4py on your machine, you can start a local cluster with MPI with:\n",
    "\n",
    "    ipcluster start -n 8 --engines=MPI --profile mpi"
   ]
  },
  {
   "cell_type": "code",
   "execution_count": 2,
   "metadata": {},
   "outputs": [],
   "source": [
    "mpi_profile = 'mpi'\n",
    "rc = parallel.Client(profile=mpi_profile)\n",
    "eall = rc[:]\n",
    "root = rc[-1]"
   ]
  },
  {
   "cell_type": "code",
   "execution_count": 3,
   "metadata": {},
   "outputs": [],
   "source": [
    "%px from mpi4py.MPI import COMM_WORLD as MPI"
   ]
  },
  {
   "cell_type": "code",
   "execution_count": 4,
   "metadata": {},
   "outputs": [
    {
     "data": {
      "text/plain": [
       "{0: 0, 1: 2, 2: 3, 3: 1}"
      ]
     },
     "execution_count": 4,
     "metadata": {},
     "output_type": "execute_result"
    }
   ],
   "source": [
    "mpi_ranks = eall.apply_async(lambda : MPI.Get_rank()).get_dict()\n",
    "root_rank = root.apply_sync(lambda : MPI.Get_rank())\n",
    "mpi_ranks"
   ]
  },
  {
   "cell_type": "code",
   "execution_count": 5,
   "metadata": {},
   "outputs": [],
   "source": [
    "sz = 256\n",
    "data = np.random.random((sz, sz))\n",
    "data = data.dot(data.T)"
   ]
  },
  {
   "cell_type": "code",
   "execution_count": 6,
   "metadata": {},
   "outputs": [
    {
     "name": "stdout",
     "output_type": "stream",
     "text": [
      "   4/4 tasks finished after    0 s\n",
      "done\n",
      "CPU times: user 16.4 ms, sys: 6.95 ms, total: 23.3 ms\n",
      "Wall time: 79.1 ms\n"
     ]
    }
   ],
   "source": [
    "%%time \n",
    "ar = eall.push({'data': data}, block=False)\n",
    "ar.wait_interactive()"
   ]
  },
  {
   "cell_type": "code",
   "execution_count": 7,
   "metadata": {},
   "outputs": [],
   "source": [
    "@parallel.interactive\n",
    "def _bcast(key, root_rank):\n",
    "    \"\"\"function to run on engines as part of broadcast\"\"\"\n",
    "    g = globals()\n",
    "    obj = g.get(key, None)\n",
    "    obj = MPI.bcast(obj, root_rank)\n",
    "    g[key] = obj\n",
    "\n",
    "def broadcast(key, obj, dv, root, root_rank):\n",
    "    \"\"\"More efficient broadcast by doing push to root,\n",
    "    and MPI broadcast to other engines.\n",
    "    \n",
    "    Still O(N) messages, but all but one message is always small.\n",
    "    \"\"\"\n",
    "    root.push({key : obj}, block=False)\n",
    "    return dv.apply_async(_bcast, key, root_rank)"
   ]
  },
  {
   "cell_type": "code",
   "execution_count": 8,
   "metadata": {},
   "outputs": [
    {
     "name": "stdout",
     "output_type": "stream",
     "text": [
      "   4/4 tasks finished after    0 s\n",
      "done\n",
      "CPU times: user 22.4 ms, sys: 7 ms, total: 29.4 ms\n",
      "Wall time: 75.8 ms\n"
     ]
    }
   ],
   "source": [
    "%%time\n",
    "ar = broadcast('data', data, eall, root, root_rank)\n",
    "ar.wait_interactive()"
   ]
  },
  {
   "cell_type": "code",
   "execution_count": 9,
   "metadata": {},
   "outputs": [
    {
     "data": {
      "text/plain": [
       "[16429.257994180392,\n",
       " 16429.257994180392,\n",
       " 16429.257994180392,\n",
       " 16429.257994180392]"
      ]
     },
     "execution_count": 9,
     "metadata": {},
     "output_type": "execute_result"
    }
   ],
   "source": [
    "eall.apply_sync(np.linalg.norm, parallel.Reference('data'), 2)"
   ]
  },
  {
   "cell_type": "code",
   "execution_count": null,
   "metadata": {
    "collapsed": true
   },
   "outputs": [],
   "source": []
  }
 ],
 "metadata": {
  "kernelspec": {
   "display_name": "Python 3",
   "language": "python",
   "name": "python3"
  },
  "language_info": {
   "codemirror_mode": {
    "name": "ipython",
    "version": 3
   },
   "file_extension": ".py",
   "mimetype": "text/x-python",
   "name": "python",
   "nbconvert_exporter": "python",
   "pygments_lexer": "ipython3",
   "version": "3.6.0"
  }
 },
 "nbformat": 4,
 "nbformat_minor": 1
}
