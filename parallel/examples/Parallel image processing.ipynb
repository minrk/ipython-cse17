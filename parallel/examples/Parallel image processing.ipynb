{
 "cells": [
  {
   "cell_type": "markdown",
   "metadata": {},
   "source": [
    "# Motivating example: Parallel image processing with scikit-image"
   ]
  },
  {
   "cell_type": "markdown",
   "metadata": {},
   "source": [
    "To get a sense of what IPython.parallel might be used for,\n",
    "we start with an example of some batch processing of image files with [scikit-image](http://scikit-image.org/).\n",
    "We will revisit pieces of this example as we learn about the different components of IPython.\n",
    "\n",
    "You can download images with [this notebook](../download-images.ipynb), or get a zip [here](https://s3.amazonaws.com/ipython-parallel-data/images.zip), or find any images on your computer.\n",
    "\n",
    "\n"
   ]
  },
  {
   "cell_type": "code",
   "execution_count": null,
   "metadata": {},
   "outputs": [
    {
     "name": "stdout",
     "output_type": "stream",
     "text": [
      "Downloading images\n"
     ]
    }
   ],
   "source": [
    "import sys\n",
    "import requests\n",
    "from zipfile import ZipFile, BadZipFile\n",
    "from ipywidgets import IntProgress\n",
    "from IPython.display import display\n",
    "\n",
    "images = os.path.join('..', 'images')\n",
    "images_url = \"https://s3.amazonaws.com/ipython-parallel-data/images.zip\"\n",
    "\n",
    "\n",
    "def download_images():\n",
    "    r = requests.get(images_url, stream=True)\n",
    "    content_length = r.headers.get('content-length')\n",
    "    print(\"Downloading images\")\n",
    "    sys.stdout.flush()\n",
    "    p = IntProgress(max=content_length)\n",
    "    display(p)\n",
    "    with open(images_zip, 'wb') as f:\n",
    "        for chunk in r.iter_content(chunk_size=8192):\n",
    "            p.value += len(chunk)\n",
    "            f.write(chunk)\n",
    "\n",
    "\n",
    "if not os.path.exists(images):\n",
    "    images_zip = images + '.zip'\n",
    "    if os.path.exists(images_zip):\n",
    "        try:\n",
    "            zf = ZipFile(images_zip)\n",
    "        except BadZipFile:\n",
    "            os.remove(images_zip)\n",
    "        else:\n",
    "            zf.close()\n",
    "    if not os.path.exists(images_zip):\n",
    "        download_images()\n",
    "    \n",
    "    ZipFile(images_zip).extractall('..')\n"
   ]
  },
  {
   "cell_type": "code",
   "execution_count": null,
   "metadata": {},
   "outputs": [],
   "source": [
    "%matplotlib inline\n",
    "import matplotlib.pyplot as plt"
   ]
  },
  {
   "cell_type": "code",
   "execution_count": null,
   "metadata": {},
   "outputs": [],
   "source": [
    "import sys,os,re,time\n",
    "import urllib\n",
    "\n",
    "import numpy as np\n",
    "\n",
    "import ipyparallel as parallel"
   ]
  },
  {
   "cell_type": "code",
   "execution_count": null,
   "metadata": {},
   "outputs": [],
   "source": [
    "from skimage.io import imread\n",
    "from skimage.feature import corner_harris, corner_peaks"
   ]
  },
  {
   "cell_type": "markdown",
   "metadata": {},
   "source": [
    "Define a function to find the corners of the image:"
   ]
  },
  {
   "cell_type": "code",
   "execution_count": null,
   "metadata": {},
   "outputs": [],
   "source": [
    "def find_corners(path, min_distance=5):\n",
    "    \"\"\"Find corners in an image at path\n",
    "    \n",
    "    Returns the image and the corner lists.\n",
    "    \"\"\"\n",
    "    img = imread(path, flatten=True)\n",
    "    corners = corner_peaks(corner_harris(img), min_distance=min_distance)\n",
    "    return img, corners\n"
   ]
  },
  {
   "cell_type": "markdown",
   "metadata": {},
   "source": [
    "and show the contours on the image with matplotlib:"
   ]
  },
  {
   "cell_type": "code",
   "execution_count": null,
   "metadata": {},
   "outputs": [],
   "source": [
    "def plot_corners(img, corners, show=True):\n",
    "    \"\"\"Display the image and plot all contours found\"\"\"\n",
    "    plt.imshow(img, cmap='gray')\n",
    "    plt.plot(corners[:,1], corners[:,0], 'r+', markeredgewidth=1.5, markersize=8) # Plot corners\n",
    "    plt.axis('image')\n",
    "    plt.xticks([])\n",
    "    plt.yticks([])\n",
    "    if show:\n",
    "        plt.show()\n"
   ]
  },
  {
   "cell_type": "code",
   "execution_count": null,
   "metadata": {},
   "outputs": [],
   "source": [
    "def get_corners_image(path):\n",
    "    \"\"\"Given a path, return a PNG of the image with contour lines\n",
    "    \n",
    "    Calls both find_contours and plot_contours\n",
    "    \"\"\"\n",
    "    from IPython.core.pylabtools import print_figure\n",
    "    \n",
    "    img, corners = find_corners(path)\n",
    "    plot_corners(img, corners, show=False)\n",
    "    fig = plt.gcf()\n",
    "    pngdata = print_figure(fig)\n",
    "    plt.close(fig)\n",
    "    return pngdata\n"
   ]
  },
  {
   "cell_type": "code",
   "execution_count": null,
   "metadata": {},
   "outputs": [],
   "source": [
    "import os\n",
    "pictures_dir = os.path.join('..', 'images', 'portrait')\n",
    "\n",
    "pictures = []\n",
    "for directory, subdirs, files in os.walk(pictures_dir):\n",
    "    for fname in files:\n",
    "        if fname.lower().endswith(('.jpg', '.png')):\n",
    "            pictures.append(os.path.join(directory, fname))\n",
    "\n",
    "pictures[:5]"
   ]
  },
  {
   "cell_type": "markdown",
   "metadata": {},
   "source": [
    "Let's test our function locally, to see what it does."
   ]
  },
  {
   "cell_type": "code",
   "execution_count": null,
   "metadata": {
    "scrolled": true
   },
   "outputs": [],
   "source": [
    "for p in pictures[:3]:\n",
    "    img, corners = find_corners(p)\n",
    "    plot_corners(img, corners)\n"
   ]
  },
  {
   "cell_type": "markdown",
   "metadata": {},
   "source": [
    "# Now in parallel"
   ]
  },
  {
   "cell_type": "markdown",
   "metadata": {},
   "source": [
    "First, we connect our parallel Client"
   ]
  },
  {
   "cell_type": "code",
   "execution_count": null,
   "metadata": {},
   "outputs": [],
   "source": [
    "rc = parallel.Client()\n",
    "all_engines = rc[:]\n",
    "view = rc.load_balanced_view()"
   ]
  },
  {
   "cell_type": "markdown",
   "metadata": {},
   "source": [
    "Then we initialize the namespace on all of the engines with imports"
   ]
  },
  {
   "cell_type": "code",
   "execution_count": null,
   "metadata": {},
   "outputs": [],
   "source": [
    "%px import os; os.chdir(\"{os.getcwd()}\")"
   ]
  },
  {
   "cell_type": "code",
   "execution_count": null,
   "metadata": {},
   "outputs": [],
   "source": [
    "%%px\n",
    "%matplotlib inline\n",
    "import matplotlib.pyplot as plt\n",
    "\n",
    "from skimage.io import imread\n",
    "from skimage.feature import corner_harris, corner_peaks"
   ]
  },
  {
   "cell_type": "markdown",
   "metadata": {},
   "source": [
    "and make sure some functions are defined everywhere (this is only necessary for the `contours_in_url` case)"
   ]
  },
  {
   "cell_type": "code",
   "execution_count": null,
   "metadata": {},
   "outputs": [],
   "source": [
    "all_engines.push(dict(\n",
    "    plot_corners=plot_corners,\n",
    "    find_corners=find_corners,\n",
    "))"
   ]
  },
  {
   "cell_type": "markdown",
   "metadata": {},
   "source": [
    "Now we can iterate through all of our pictures, and detect and display any corners we find"
   ]
  },
  {
   "cell_type": "code",
   "execution_count": null,
   "metadata": {},
   "outputs": [],
   "source": [
    "from IPython.display import display, Image\n",
    "\n",
    "amr = view.map_async(get_corners_image, pictures[:20], ordered=False)\n",
    "for pngdata in amr:\n",
    "    display(Image(data=pngdata))\n"
   ]
  }
 ],
 "metadata": {
  "kernelspec": {
   "display_name": "Python 3",
   "language": "python",
   "name": "python3"
  },
  "language_info": {
   "codemirror_mode": {
    "name": "ipython",
    "version": 3
   },
   "file_extension": ".py",
   "mimetype": "text/x-python",
   "name": "python",
   "nbconvert_exporter": "python",
   "pygments_lexer": "ipython3",
   "version": "3.6.0"
  },
  "widgets": {
   "state": {
    "a07922884c6640428d239309014600bb": {
     "views": [
      {
       "cell_index": 2
      }
     ]
    }
   },
   "version": "1.2.0"
  }
 },
 "nbformat": 4,
 "nbformat_minor": 1
}
