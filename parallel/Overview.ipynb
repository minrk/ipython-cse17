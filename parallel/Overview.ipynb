{
 "cells": [
  {
   "cell_type": "code",
   "execution_count": null,
   "metadata": {
    "collapsed": false
   },
   "outputs": [],
   "source": [
    "%%html\n",
    "<style type=\"text/css\">\n",
    ".rendered_html .float-diagram {\n",
    "  height: 400px;\n",
    "  margin-top: -4em;\n",
    "  float: right;\n",
    "}\n",
    "</style>"
   ]
  },
  {
   "cell_type": "markdown",
   "metadata": {},
   "source": [
    "# Overview and getting started\n",
    "\n",
    "<img src=\"files/figs/wideView.png\" class=\"float-diagram\"/>\n",
    "\n",
    "The Jupyter protocol provides a mechanism for doing *remote* execution.\n",
    "IPython Parallel extends the same protocol to *parallel* remote execution for the IPython kernel."
   ]
  },
  {
   "cell_type": "markdown",
   "metadata": {},
   "source": [
    "## Architecture overview\n",
    "\n",
    "<img src=\"files/figs/wideView.png\" class=\"float-diagram\"/>\n",
    "\n",
    "The IPython architecture consists of four components:\n",
    "\n",
    "-   The IPython engine\n",
    "-   The IPython hub\n",
    "-   The IPython schedulers\n",
    "-   The cluster client\n",
    "\n",
    "These components live in the `ipyparallel` package."
   ]
  },
  {
   "cell_type": "markdown",
   "metadata": {},
   "source": [
    "### IPython engine\n",
    "\n",
    "The IPython engine is a Python instance that accepts Python commands over\n",
    "a network connection.  When multiple engines are started, parallel\n",
    "and distributed computing becomes possible. An important property of an\n",
    "IPython engine is that it blocks while user code is being executed. Read\n",
    "on for how the IPython controller solves this problem to expose a clean\n",
    "asynchronous API to the user."
   ]
  },
  {
   "cell_type": "markdown",
   "metadata": {},
   "source": [
    "### IPython controller\n",
    "<img src=\"files/figs/wideView.png\" class=\"float-diagram\"/>\n",
    "\n",
    "The IPython controller processes provide an interface for working with a\n",
    "set of engines. At a general level, the controller is a collection of\n",
    "processes to which IPython engines and clients can connect. The\n",
    "controller is composed of a `Hub` and a collection of\n",
    "`Schedulers`, which may be in processes or threads.\n",
    "\n",
    "The controller provides a single point of contact for users who\n",
    "wish to utilize the engines in the cluster. There is a variety of\n",
    "different ways of working with a controller, but all of these\n",
    "models are implemented via the `View.apply` method, after\n",
    "constructing `View` objects to represent different collections engines.\n",
    "The two primary models for interacting with engines are:\n",
    "\n",
    "-   A **Direct** interface, where engines are addressed explicitly.\n",
    "-   A **LoadBalanced** interface, where the Scheduler is trusted with\n",
    "    assigning work to appropriate engines.\n",
    "\n",
    "Advanced users can readily extend the View models to enable other styles\n",
    "of parallelism."
   ]
  },
  {
   "cell_type": "markdown",
   "metadata": {},
   "source": [
    "## IPython client and views\n",
    "\n",
    "There is one primary object, the `Client`, for\n",
    "connecting to a cluster. For each execution model, there is a\n",
    "corresponding `View`. These views allow users to\n",
    "interact with a set of engines through the interface. Here are the two\n",
    "default views:\n",
    "\n",
    "-   The `DirectView` class for explicit addressing.\n",
    "-   The `LoadBalancedView` class for destination-agnostic\n",
    "    scheduling."
   ]
  },
  {
   "cell_type": "markdown",
   "metadata": {},
   "source": [
    "## Getting Started\n",
    "\n",
    "## Starting the IPython controller and engines\n",
    "\n",
    "To follow along with this tutorial, you will need to start the IPython\n",
    "controller and four IPython engines. The simplest way of doing this is\n",
    "with the [clusters tab](/#clusters),\n",
    "or you can use the `ipcluster` command in a terminal:\n",
    "\n",
    "    $ ipcluster start -n 4\n",
    "\n",
    "There isn't time to go into it here, but ipcluster can be used to start engines\n",
    "and the controller with various batch systems including:\n",
    "\n",
    "* SGE\n",
    "* PBS\n",
    "* LSF\n",
    "* MPI\n",
    "* SSH\n",
    "* WinHPC\n",
    "\n",
    "More information on starting and configuring the IPython cluster in \n",
    "[the IPython.parallel docs](http://ipython.org/ipython-doc/stable/parallel/parallel_process.html).\n",
    "\n",
    "Once you have started the IPython controller and one or more engines,\n",
    "you are ready to use the engines to do something useful. \n",
    "\n",
    "To make sure everything is working correctly, let's do a very simple demo:"
   ]
  },
  {
   "cell_type": "code",
   "execution_count": null,
   "metadata": {
    "collapsed": false
   },
   "outputs": [],
   "source": [
    "import ipyparallel as parallel\n",
    "rc = parallel.Client()\n",
    "rc.block = True"
   ]
  },
  {
   "cell_type": "code",
   "execution_count": null,
   "metadata": {
    "collapsed": false
   },
   "outputs": [],
   "source": [
    "rc.ids"
   ]
  },
  {
   "cell_type": "code",
   "execution_count": null,
   "metadata": {
    "collapsed": false
   },
   "outputs": [],
   "source": [
    "def mul(a,b):\n",
    "    return a*b"
   ]
  },
  {
   "cell_type": "code",
   "execution_count": null,
   "metadata": {
    "collapsed": false
   },
   "outputs": [],
   "source": [
    "def summary():\n",
    "    \"\"\"summarize some info about this process\"\"\"\n",
    "    import os\n",
    "    import socket\n",
    "    import sys\n",
    "    return {\n",
    "        'cwd': os.getcwd(),\n",
    "        'Python': sys.version,\n",
    "        'hostname': socket.gethostname(),\n",
    "        'pid': os.getpid(),\n",
    "    }"
   ]
  },
  {
   "cell_type": "code",
   "execution_count": null,
   "metadata": {
    "collapsed": false
   },
   "outputs": [],
   "source": [
    "mul(5, 6)"
   ]
  },
  {
   "cell_type": "code",
   "execution_count": null,
   "metadata": {
    "collapsed": false
   },
   "outputs": [],
   "source": [
    "summary()"
   ]
  },
  {
   "cell_type": "markdown",
   "metadata": {},
   "source": [
    "What does it look like to call this function remotely?\n",
    "\n",
    "Just turn `f(*args, **kwargs)` into `view.apply(f, *args, **kwargs)`!"
   ]
  },
  {
   "cell_type": "code",
   "execution_count": null,
   "metadata": {
    "collapsed": false
   },
   "outputs": [],
   "source": [
    "rc[0].apply(mul, 5, 6)"
   ]
  },
  {
   "cell_type": "code",
   "execution_count": null,
   "metadata": {
    "collapsed": false
   },
   "outputs": [],
   "source": [
    "rc[0].apply(summary)"
   ]
  },
  {
   "cell_type": "markdown",
   "metadata": {},
   "source": [
    "And the same thing in parallel?"
   ]
  },
  {
   "cell_type": "code",
   "execution_count": null,
   "metadata": {
    "collapsed": false
   },
   "outputs": [],
   "source": [
    "rc[:].apply(mul, 5, 6)"
   ]
  },
  {
   "cell_type": "code",
   "execution_count": null,
   "metadata": {
    "collapsed": false
   },
   "outputs": [],
   "source": [
    "rc[:].apply(summary)"
   ]
  },
  {
   "cell_type": "markdown",
   "metadata": {},
   "source": [
    "Python has a builtin map for calling a function with a variety of arguments"
   ]
  },
  {
   "cell_type": "code",
   "execution_count": null,
   "metadata": {
    "collapsed": false
   },
   "outputs": [],
   "source": [
    "list(map(mul, range(1,10), range(2,11)))"
   ]
  },
  {
   "cell_type": "markdown",
   "metadata": {},
   "source": [
    "So how do we do this in parallel?"
   ]
  },
  {
   "cell_type": "code",
   "execution_count": null,
   "metadata": {
    "collapsed": false
   },
   "outputs": [],
   "source": [
    "view = rc.load_balanced_view()\n",
    "list(view.map(mul, range(1,20), range(2,21)))"
   ]
  },
  {
   "cell_type": "markdown",
   "metadata": {},
   "source": [
    "And a preview of parallel magics:"
   ]
  },
  {
   "cell_type": "code",
   "execution_count": null,
   "metadata": {
    "collapsed": false
   },
   "outputs": [],
   "source": [
    "%%px\n",
    "import os, socket\n",
    "print(os.getpid())\n",
    "print(socket.gethostname())"
   ]
  },
  {
   "cell_type": "markdown",
   "metadata": {},
   "source": [
    "Now let's get into some more detail about how to use IPython for [remote execution](tutorial/Remote Execution.ipynb)."
   ]
  }
 ],
 "metadata": {
  "kernelspec": {
   "display_name": "Python 3",
   "language": "python",
   "name": "python3"
  },
  "language_info": {
   "codemirror_mode": {
    "name": "ipython",
    "version": 3
   },
   "file_extension": ".py",
   "mimetype": "text/x-python",
   "name": "python",
   "nbconvert_exporter": "python",
   "pygments_lexer": "ipython3",
   "version": "3.5.1"
  },
  "widgets": {
   "state": {},
   "version": "1.1.1"
  }
 },
 "nbformat": 4,
 "nbformat_minor": 0
}
