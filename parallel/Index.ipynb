{
 "cells": [
  {
   "cell_type": "markdown",
   "metadata": {},
   "source": [
    "#  Interactive (parallel) Python"
   ]
  },
  {
   "cell_type": "markdown",
   "metadata": {},
   "source": [
    "# Installation and dependencies\n",
    "\n",
    "You will need ipyparallel >= 5.x, and pyzmq ≥ 13. To use the demo notebooks, you will also need tornado ≥ 4. I will also make use of numpy and matplotlib. If you have Canopy or Anaconda, you already have all of these.\n",
    "\n",
    "Quick one-line install for IPython and its dependencies:\n",
    "   \n",
    "    pip install ipyparallel\n",
    "    \n",
    "Or get everything for the tutorial with conda:\n",
    "\n",
    "    conda install anaconda mpi4py\n",
    "\n",
    "For those who prefer pip or otherwise manual package installation, the following packages will be used:\n",
    "\n",
    "ipython\n",
    "ipyparallel\n",
    "numpy\n",
    "matplotlib\n",
    "networkx\n",
    "scikit-image\n",
    "requests\n",
    "beautifulsoup\n",
    "mpi4py\n",
    "\n",
    "\n",
    "Optional dependencies: I will use [NetworkX](http://networkx.lanl.gov/)\n",
    "for one demo, and `scikit-image` for another, but they are not critical. Both packages are in in Anaconda.\n",
    "\n",
    "For the image-related demos, all you need are some images on your computer. The notebooks will try to fetch images from Wikimedia Commons, but since the  networks can be untrustworty, we have [bundled some images here](http://s3.amazonaws.com/ipython-parallel-data/images.zip)."
   ]
  },
  {
   "cell_type": "markdown",
   "metadata": {},
   "source": [
    "## Outline\n",
    "\n",
    "- [Motivating Example](examples/Parallel%20image%20processing.ipynb)\n",
    "- [Overview](Overview.ipynb)\n",
    "- [Tutorial](tutorial)\n",
    "  - [Remote Execution](tutorial/Remote%20Execution.ipynb)\n",
    "  - [Multiplexing](tutorial/Multiplexing.ipynb)\n",
    "  - [Load-Balancing](tutorial/Load-Balancing.ipynb)\n",
    "  - [Both!](tutorial/All%20Together.ipynb)\n",
    "  - [Parallel Magics](tutorial/Parallel%20Magics.ipynb)\n",
    "- [Examples](examples)\n",
    "- [Exercises](exercises)\n"
   ]
  }
 ],
 "metadata": {
  "kernelspec": {
   "display_name": "Python 3",
   "language": "python",
   "name": "python3"
  },
  "language_info": {
   "codemirror_mode": {
    "name": "ipython",
    "version": 3
   },
   "file_extension": ".py",
   "mimetype": "text/x-python",
   "name": "python",
   "nbconvert_exporter": "python",
   "pygments_lexer": "ipython3",
   "version": "3.6.0"
  }
 },
 "nbformat": 4,
 "nbformat_minor": 1
}
