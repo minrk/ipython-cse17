{
 "cells": [
  {
   "cell_type": "markdown",
   "metadata": {},
   "source": [
    "# Using DirectView and LoadBalancedView together"
   ]
  },
  {
   "cell_type": "markdown",
   "metadata": {},
   "source": [
    "We mentioned that you can use any number of views of any sort simultaneously.\n",
    "\n",
    "The most common model for doing this is to use a DirectView to initialise the engine namespaces\n",
    "(either defining functions and variables, or loading datasets) with a DirectView,\n",
    "and then submitting work as tasks via the LoadBalancedView.\n",
    "\n",
    "For this example, we are going to define a few functions for fetching data and getting a simple summary on some stocks,\n",
    "then we are going to run those functions on a series of stocks in a load-balanced way."
   ]
  },
  {
   "cell_type": "markdown",
   "metadata": {},
   "source": [
    "The usual boilerplate:"
   ]
  },
  {
   "cell_type": "code",
   "execution_count": null,
   "metadata": {
    "collapsed": false
   },
   "outputs": [],
   "source": [
    "%matplotlib inline\n",
    "import matplotlib.pyplot as plt\n",
    "import numpy as np"
   ]
  },
  {
   "cell_type": "code",
   "execution_count": null,
   "metadata": {
    "collapsed": false
   },
   "outputs": [],
   "source": [
    "import ipyparallel as parallel\n",
    "\n",
    "rc = parallel.Client()\n",
    "all_engines = rc[:]\n",
    "lbv = rc.load_balanced_view()"
   ]
  },
  {
   "cell_type": "markdown",
   "metadata": {},
   "source": [
    "Use matplotlib to fetch data from Yahoo\n",
    "\n",
    "Note that we are defining these functions on the engines"
   ]
  },
  {
   "cell_type": "code",
   "execution_count": null,
   "metadata": {
    "collapsed": false
   },
   "outputs": [],
   "source": [
    "%%px\n",
    "\n",
    "from io import BytesIO\n",
    "\n",
    "from matplotlib import finance\n",
    "\n",
    "def get_yahoo_data(name=None, start=None, end=None):\n",
    "    \"\"\"return historical stock data from yahoo as a recarray.\"\"\"\n",
    "    fp = finance.fetch_historical_yahoo(name, start, end)\n",
    "    return finance.parse_yahoo_historical_ochl(fp, asobject=True)\n",
    "\n",
    "def relative_close(records):\n",
    "    \"\"\"return the reative change in closing price over the interval\"\"\"\n",
    "    \n",
    "    close = records['aclose']\n",
    "    return (close[-1] - close[0]) / close[0]\n",
    "\n"
   ]
  },
  {
   "cell_type": "markdown",
   "metadata": {},
   "source": [
    "Setup the timestamps.  We want the past year"
   ]
  },
  {
   "cell_type": "code",
   "execution_count": null,
   "metadata": {
    "collapsed": false
   },
   "outputs": [],
   "source": [
    "%%px\n",
    "import datetime\n",
    "end = datetime.datetime.now()\n",
    "start = end - datetime.timedelta(days=365)"
   ]
  },
  {
   "cell_type": "markdown",
   "metadata": {},
   "source": [
    "Our ticker of stocks to check"
   ]
  },
  {
   "cell_type": "code",
   "execution_count": null,
   "metadata": {
    "collapsed": false
   },
   "outputs": [],
   "source": [
    "ticker = ['AAPL', 'GOOG', 'MSFT', 'ORCL', 'AMZN', 'INTC', 'ATVI', 'EA', 'NFLX']"
   ]
  },
  {
   "cell_type": "markdown",
   "metadata": {},
   "source": [
    "And map a simple function (that depends on the code we have defined on the engines)\n",
    "onto our ticker."
   ]
  },
  {
   "cell_type": "code",
   "execution_count": null,
   "metadata": {
    "collapsed": false
   },
   "outputs": [],
   "source": [
    "def year_over_year(name):\n",
    "    \"\"\"fetch data, and return year-over-year change (relative to first close)\n",
    " \n",
    "    in percent\n",
    "    \"\"\"\n",
    "    stock = get_yahoo_data(name, start, end)\n",
    "    return relative_close(stock) * 100\n",
    "\n",
    "amr = lbv.map(year_over_year, ticker)\n",
    "amr"
   ]
  },
  {
   "cell_type": "code",
   "execution_count": null,
   "metadata": {
    "collapsed": false
   },
   "outputs": [],
   "source": [
    "fig, ax = plt.subplots()\n",
    "fig.set_figwidth(10)\n",
    "ax.bar(range(len(amr)), amr)\n",
    "ax.set_xticks(np.arange(len(amr))+0.4)\n",
    "ax.set_xticklabels(ticker)\n",
    "ax.axhline(0, c='k');"
   ]
  },
  {
   "cell_type": "markdown",
   "metadata": {},
   "source": [
    "# Plotting stock data in parallel with Pandas"
   ]
  },
  {
   "cell_type": "code",
   "execution_count": null,
   "metadata": {
    "collapsed": false
   },
   "outputs": [],
   "source": [
    "%%px\n",
    "%matplotlib inline\n",
    "import matplotlib.pyplot as plt"
   ]
  },
  {
   "cell_type": "code",
   "execution_count": null,
   "metadata": {
    "collapsed": false
   },
   "outputs": [],
   "source": [
    "try:\n",
    "    from pandas_datareader import DataReader\n",
    "except ImportError:\n",
    "    from pandas.io.data import DataReader\n",
    "from datetime import datetime"
   ]
  },
  {
   "cell_type": "code",
   "execution_count": null,
   "metadata": {
    "collapsed": false
   },
   "outputs": [],
   "source": [
    "def plot_stock_since(name, since_when, key=\"Adj Close\"):\n",
    "    data = DataReader(name, \"yahoo\", since_when)\n",
    "    data[key].plot()\n",
    "    plt.title(name)\n",
    "    plt.show()\n",
    "    "
   ]
  },
  {
   "cell_type": "code",
   "execution_count": null,
   "metadata": {
    "collapsed": false
   },
   "outputs": [],
   "source": [
    "start = datetime(2011,1,1)\n",
    "plot_stock_since('GOOG', start)"
   ]
  },
  {
   "cell_type": "code",
   "execution_count": null,
   "metadata": {
    "collapsed": false
   },
   "outputs": [],
   "source": [
    "%%px\n",
    "try:\n",
    "    from pandas_datareader import DataReader\n",
    "except ImportError:\n",
    "    from pandas.io.data import DataReader"
   ]
  },
  {
   "cell_type": "code",
   "execution_count": null,
   "metadata": {
    "collapsed": false
   },
   "outputs": [],
   "source": [
    "all_engines.scatter('ticker', ticker)\n",
    "%px print(ticker)"
   ]
  },
  {
   "cell_type": "code",
   "execution_count": null,
   "metadata": {
    "collapsed": false
   },
   "outputs": [],
   "source": [
    "all_engines['plot_stock_since'] = plot_stock_since"
   ]
  },
  {
   "cell_type": "code",
   "execution_count": null,
   "metadata": {
    "collapsed": false
   },
   "outputs": [],
   "source": [
    "%%px\n",
    "from datetime import datetime\n",
    "start = datetime(2011,1,1)\n",
    "from pandas.io.data import DataReader\n",
    "\n",
    "for stock in ticker:\n",
    "    plot_stock_since(stock, start)"
   ]
  },
  {
   "cell_type": "code",
   "execution_count": null,
   "metadata": {
    "collapsed": false
   },
   "outputs": [],
   "source": [
    "amr = lbv.map(plot_stock_since, ticker, [start]*len(ticker))\n",
    "amr"
   ]
  },
  {
   "cell_type": "code",
   "execution_count": null,
   "metadata": {
    "collapsed": false
   },
   "outputs": [],
   "source": [
    "%time amr.wait()\n",
    "amr.display_outputs()"
   ]
  }
 ],
 "metadata": {
  "kernelspec": {
   "display_name": "Python 3",
   "language": "python",
   "name": "python3"
  },
  "language_info": {
   "codemirror_mode": {
    "name": "ipython",
    "version": 3
   },
   "file_extension": ".py",
   "mimetype": "text/x-python",
   "name": "python",
   "nbconvert_exporter": "python",
   "pygments_lexer": "ipython3",
   "version": "3.5.1"
  },
  "widgets": {
   "state": {},
   "version": "1.1.1"
  }
 },
 "nbformat": 4,
 "nbformat_minor": 0
}
