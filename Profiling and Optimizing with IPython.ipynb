{
 "cells": [
  {
   "cell_type": "markdown",
   "metadata": {},
   "source": [
    "# Profiling and Optimising\n",
    "\n",
    "IPython provides some tools for making it a bit easier to profile and optimise your code."
   ]
  },
  {
   "cell_type": "code",
   "execution_count": null,
   "metadata": {
    "collapsed": true
   },
   "outputs": [],
   "source": [
    "%matplotlib inline\n",
    "import numpy as np\n",
    "import matplotlib.pyplot as plt"
   ]
  },
  {
   "cell_type": "code",
   "execution_count": null,
   "metadata": {},
   "outputs": [],
   "source": [
    "try:\n",
    "    import seaborn as sns\n",
    "except ImportError:\n",
    "    print(\"That's okay\")"
   ]
  },
  {
   "cell_type": "markdown",
   "metadata": {},
   "source": [
    "## `%timeit`\n",
    "\n",
    "The main IPython tool we are going to use here is `%timeit`,\n",
    "a magic that automates measuring how long it takes to run a snippet of code."
   ]
  },
  {
   "cell_type": "code",
   "execution_count": null,
   "metadata": {
    "scrolled": false
   },
   "outputs": [],
   "source": [
    "for N in (100, 500, 1000, 2000):\n",
    "    print(\"Size: {0} x {0}\".format(N))\n",
    "    A = np.random.random((N, N))\n",
    "    %timeit A.dot(A)"
   ]
  },
  {
   "cell_type": "markdown",
   "metadata": {},
   "source": [
    "Let's look at what options `%timeit` can take."
   ]
  },
  {
   "cell_type": "code",
   "execution_count": null,
   "metadata": {},
   "outputs": [],
   "source": [
    "%timeit?"
   ]
  },
  {
   "cell_type": "markdown",
   "metadata": {},
   "source": [
    "We can save the result in an object with `%timeit -o`,\n",
    "and specify to only run one group of 100 iterations."
   ]
  },
  {
   "cell_type": "code",
   "execution_count": null,
   "metadata": {},
   "outputs": [],
   "source": [
    "A = np.random.random((100, 100))\n",
    "tr = %timeit -o -n 1 -r 100 A.dot(A)"
   ]
  },
  {
   "cell_type": "code",
   "execution_count": null,
   "metadata": {},
   "outputs": [],
   "source": [
    "tr.best"
   ]
  },
  {
   "cell_type": "code",
   "execution_count": null,
   "metadata": {},
   "outputs": [],
   "source": [
    "tr.best, tr.worst"
   ]
  },
  {
   "cell_type": "code",
   "execution_count": null,
   "metadata": {
    "scrolled": true
   },
   "outputs": [],
   "source": [
    "tr.all_runs"
   ]
  },
  {
   "cell_type": "code",
   "execution_count": null,
   "metadata": {},
   "outputs": [],
   "source": [
    "plt.hist(np.array(tr.all_runs) * 1e6)\n",
    "plt.xlabel(\"t (µs)\")"
   ]
  },
  {
   "cell_type": "markdown",
   "metadata": {
    "collapsed": true
   },
   "source": [
    "## Diffusing a wave"
   ]
  },
  {
   "cell_type": "markdown",
   "metadata": {},
   "source": [
    "Our task is to optimise a 1-D diffusion algorithm,\n",
    "using numpy and Cython.\n",
    "\n",
    "Our input signal is a sawtooth wave:\n",
    "\n",
    "$$\n",
    "x_\\mathrm{sawtooth}(t) = \\frac{A}{2}-\\frac {A}{\\pi}\\sum_{k=1}^{\\infty}\\frac {\\sin (2\\pi kft)}{k}\n",
    "$$"
   ]
  },
  {
   "cell_type": "code",
   "execution_count": null,
   "metadata": {},
   "outputs": [],
   "source": [
    "from scipy.signal import sawtooth\n",
    "\n",
    "T = 8 * np.pi\n",
    "t = np.linspace(0, T, 512)\n",
    "x = sawtooth(t)\n",
    "plt.plot(t, x)\n",
    "\n",
    "steps = 2048"
   ]
  },
  {
   "cell_type": "markdown",
   "metadata": {},
   "source": [
    "We are going to diffuse the wave by evolving the heat equation:\n",
    "\n",
    "$$\n",
    "\\frac{\\delta x}{\\delta t} = \\alpha \\frac{\\delta^2 x}{\\delta^2}{t}\n",
    "$$\n",
    "\n",
    "Which we can discretize for our arrays:\n",
    "\n",
    "\\begin{align}\n",
    "x_{k} =& \\frac{1}{4} \\left( \n",
    "    x_{k-1}[i-1] +\n",
    "    2 x_{k-1}[i] +\n",
    "    x_{k-1}[i+1]\n",
    "    \\right) \\\\\n",
    "x_{k}[0] =& x_{0}[0] \\\\\n",
    "x_{k}[N] =& x_{0}[N] \\\\\n",
    "\\end{align}"
   ]
  },
  {
   "cell_type": "markdown",
   "metadata": {},
   "source": [
    "## Pure Python\n",
    "\n",
    "We'll start with a pure Python implementation,\n",
    "to use as a reference."
   ]
  },
  {
   "cell_type": "code",
   "execution_count": null,
   "metadata": {
    "collapsed": true
   },
   "outputs": [],
   "source": [
    "def blur_py(x, steps=1024):\n",
    "    x = 1 * x # copy\n",
    "    y = np.empty_like(x)\n",
    "    y[0] = x[0]\n",
    "    y[-1] = x[-1]\n",
    "    for _ in range(steps):\n",
    "        for i in range(1, len(x)-1):\n",
    "            y[i] = .25 * ( y[i-1] + 2 * y[i] + y[i+1] )\n",
    "        x, y = y, x # swap for next step\n",
    "    return x"
   ]
  },
  {
   "cell_type": "code",
   "execution_count": null,
   "metadata": {},
   "outputs": [],
   "source": [
    "y = blur_py(x, steps)\n",
    "plt.plot(t, x, '--')\n",
    "plt.plot(t, y)"
   ]
  },
  {
   "cell_type": "markdown",
   "metadata": {},
   "source": [
    "Now we can measure how long it takes to run evolve this system:"
   ]
  },
  {
   "cell_type": "code",
   "execution_count": null,
   "metadata": {},
   "outputs": [],
   "source": [
    "ref_run = %timeit -o y = blur_py(x, steps)\n",
    "t_ref = ref_run.best\n",
    "\n",
    "times = [t_ref]\n",
    "labels = ['python']"
   ]
  },
  {
   "cell_type": "markdown",
   "metadata": {},
   "source": [
    "So it takes about one second.\n",
    "We can also see how it changes with different times and resolutions."
   ]
  },
  {
   "cell_type": "markdown",
   "metadata": {},
   "source": [
    "## Vectorizing with numpy\n",
    "\n",
    "We can vectorize the inner loop with a single numpy operation:"
   ]
  },
  {
   "cell_type": "code",
   "execution_count": null,
   "metadata": {
    "collapsed": true
   },
   "outputs": [],
   "source": [
    "import numpy as np\n",
    "\n",
    "def blur_np(x, steps=1024):\n",
    "    x = 1 * x\n",
    "    y = np.empty_like(x)\n",
    "    y[0] = x[0]\n",
    "    y[-1] = x[-1]\n",
    "    for _ in range(steps):\n",
    "        y[1:-1] = .25 * (x[:-2] + 2 * x[1:-1] + x[2:])\n",
    "        x, y = y, x\n",
    "    return x"
   ]
  },
  {
   "cell_type": "code",
   "execution_count": null,
   "metadata": {},
   "outputs": [],
   "source": [
    "y = blur_np(x, steps)\n",
    "plt.plot(t, x, '--')\n",
    "plt.plot(t, y)"
   ]
  },
  {
   "cell_type": "code",
   "execution_count": null,
   "metadata": {},
   "outputs": [],
   "source": [
    "np_r = %timeit -o blur_np(x, steps)\n",
    "t_np = np_r.best"
   ]
  },
  {
   "cell_type": "code",
   "execution_count": null,
   "metadata": {
    "collapsed": true
   },
   "outputs": [],
   "source": [
    "times.append(t_np)\n",
    "labels.append('numpy')"
   ]
  },
  {
   "cell_type": "code",
   "execution_count": null,
   "metadata": {},
   "outputs": [],
   "source": [
    "def plot_times():\n",
    "    ind = np.arange(len(times))\n",
    "    plt.bar(ind, times, log=True)\n",
    "    plt.xticks(ind + 0.3, labels, rotation=30)\n",
    "    plt.ylim(.1 * min(times), times[0])\n",
    "plot_times()"
   ]
  },
  {
   "cell_type": "markdown",
   "metadata": {},
   "source": [
    "So vectorizing the inner loop brings us from 1 second to 25 milliseconds,\n",
    "an improvement of 40x:"
   ]
  },
  {
   "cell_type": "code",
   "execution_count": null,
   "metadata": {},
   "outputs": [],
   "source": [
    "t_ref / t_np"
   ]
  },
  {
   "cell_type": "markdown",
   "metadata": {},
   "source": [
    "# Cython\n",
    "\n",
    "[Cython](http://cython.org/) provides an IPython extension,\n",
    "which defines a magic we can use to inline bits of Cython code in the notebook:"
   ]
  },
  {
   "cell_type": "code",
   "execution_count": null,
   "metadata": {},
   "outputs": [],
   "source": [
    "%load_ext Cython"
   ]
  },
  {
   "cell_type": "code",
   "execution_count": null,
   "metadata": {
    "collapsed": true
   },
   "outputs": [],
   "source": [
    "%%cython\n",
    "\n",
    "def csum(n):\n",
    "    cs = 0\n",
    "    for i in range(n):\n",
    "        cs += i\n",
    "    return cs"
   ]
  },
  {
   "cell_type": "code",
   "execution_count": null,
   "metadata": {},
   "outputs": [],
   "source": [
    "%timeit csum(5)"
   ]
  },
  {
   "cell_type": "markdown",
   "metadata": {},
   "source": [
    "`%%cython -a` shows you annotations about the generated sourcecode.\n",
    "The key to writing Cython is to minimize the amount of Python calls in the generated code. In general: yellow = slow."
   ]
  },
  {
   "cell_type": "code",
   "execution_count": null,
   "metadata": {
    "collapsed": true
   },
   "outputs": [],
   "source": [
    "def psum(n):\n",
    "    cs = 0\n",
    "    for i in range(n):\n",
    "        cs += i\n",
    "    return cs"
   ]
  },
  {
   "cell_type": "code",
   "execution_count": null,
   "metadata": {},
   "outputs": [],
   "source": [
    "%%cython -a\n",
    "\n",
    "def csum(n):\n",
    "    cs = 0\n",
    "    for i in range(n):\n",
    "        cs += i\n",
    "    return cs"
   ]
  },
  {
   "cell_type": "markdown",
   "metadata": {},
   "source": [
    "Uh oh, that looks like a lot of yellow.\n",
    "We can reduce it by adding some type annotations:"
   ]
  },
  {
   "cell_type": "code",
   "execution_count": null,
   "metadata": {},
   "outputs": [],
   "source": [
    "%%cython -a\n",
    "\n",
    "def csum2(int n):\n",
    "    cdef int i\n",
    "    cs = 0\n",
    "    for i in range(n):\n",
    "        cs += i\n",
    "    return cs"
   ]
  },
  {
   "cell_type": "markdown",
   "metadata": {},
   "source": [
    "Almost there, but I still see yellow on the lines with `cs`:"
   ]
  },
  {
   "cell_type": "code",
   "execution_count": null,
   "metadata": {},
   "outputs": [],
   "source": [
    "%%cython -a\n",
    "\n",
    "def csum3(int n):\n",
    "    cdef int i\n",
    "    cdef int cs = 0\n",
    "    for i in range(n):\n",
    "        cs += i\n",
    "    return cs"
   ]
  },
  {
   "cell_type": "markdown",
   "metadata": {},
   "source": [
    "Much better!\n",
    "Now there's only Python when entering and leaving the function,\n",
    "which is about as good as we can do."
   ]
  },
  {
   "cell_type": "code",
   "execution_count": null,
   "metadata": {},
   "outputs": [],
   "source": [
    "N = 1000000\n",
    "%timeit psum (N)\n",
    "%timeit csum (N)\n",
    "%timeit csum2(N)\n",
    "%timeit csum3(N)"
   ]
  },
  {
   "cell_type": "markdown",
   "metadata": {},
   "source": [
    "## Blurring with Cython\n",
    "\n",
    "Now we can apply the same principles to writing a blur\n",
    "in Cython."
   ]
  },
  {
   "cell_type": "code",
   "execution_count": null,
   "metadata": {},
   "outputs": [],
   "source": [
    "%%cython -a\n",
    "\n",
    "import numpy as np\n",
    "\n",
    "def blur_cython(x, steps=1024):\n",
    "    x = 1 * x # copy\n",
    "    y = np.empty_like(x)\n",
    "    y[0] = x[0]\n",
    "    y[-1] = x[-1]\n",
    "    for _ in range(steps):\n",
    "        for i in range(1, len(x)-1):\n",
    "            y[i] = .25 * ( x[i-1] + 2 * x[i] + x[i+1] )\n",
    "        x, y = y, x # swap for next step\n",
    "    return x"
   ]
  },
  {
   "cell_type": "code",
   "execution_count": null,
   "metadata": {},
   "outputs": [],
   "source": [
    "c1 = %timeit -o y = blur_cython(x, steps)\n",
    "t_c1 = c1.best\n",
    "times.append(t_c1)\n",
    "labels.append(\"cython (no hints)\")"
   ]
  },
  {
   "cell_type": "code",
   "execution_count": null,
   "metadata": {},
   "outputs": [],
   "source": [
    "plot_times()"
   ]
  },
  {
   "cell_type": "markdown",
   "metadata": {},
   "source": [
    "Without annotations, we don't get much improvement over the pure Python version.\n",
    "We can note the types of the input arguments, to get some improvements:"
   ]
  },
  {
   "cell_type": "code",
   "execution_count": null,
   "metadata": {},
   "outputs": [],
   "source": [
    "%%cython -a\n",
    "\n",
    "import numpy as np\n",
    "cimport numpy as np\n",
    "\n",
    "def blur_cython2(x, int steps=1024):\n",
    "    x = 1 * x # copy\n",
    "    y = np.empty_like(x)\n",
    "    y[0] = x[0]\n",
    "    y[-1] = x[-1]\n",
    "    cdef int i, N = len(x)\n",
    "    for _ in range(steps):\n",
    "        for i in range(1, N-1):\n",
    "            y[i] = .25 * ( x[i-1] + 2 * x[i] + x[i+1] )\n",
    "        x, y = y, x # swap for next step\n",
    "    return x"
   ]
  },
  {
   "cell_type": "code",
   "execution_count": null,
   "metadata": {},
   "outputs": [],
   "source": [
    "c2 = %timeit -o blur_cython2(x, steps)\n",
    "t_c2 = c2.best\n",
    "times.append(t_c2)\n",
    "labels.append(\"cython (loops)\")\n",
    "plot_times()"
   ]
  },
  {
   "cell_type": "markdown",
   "metadata": {},
   "source": [
    "Just by making sure the iteration variables are defined as integers, we can save about 25% of the time.\n",
    "\n",
    "The biggest key to optimizing with Cython is getting that yellow out of your loops.\n",
    "The more deeply nested a bit of code is within a loop,\n",
    "the more often it is called, and the more value you can get out of making it fast.\n",
    "In Cython, fast means avoiding Python (getting rid of yellow).\n",
    "To get rid of Python calls, we need to tell Python about the numpy arrays `x` and `y`:\n"
   ]
  },
  {
   "cell_type": "code",
   "execution_count": null,
   "metadata": {},
   "outputs": [],
   "source": [
    "%%cython -a\n",
    "\n",
    "import numpy as np\n",
    "cimport numpy as np\n",
    "\n",
    "def blur_cython_typed(np.ndarray[double, ndim=1] x_, int steps=1024):\n",
    "#     x = 1 * x # copy\n",
    "    cdef size_t i, N = x_.shape[0]\n",
    "    cdef np.ndarray[double, ndim=1] x\n",
    "    cdef np.ndarray[double, ndim=1] y\n",
    "    x = 1 * x_\n",
    "    y = np.empty_like(x_)\n",
    "    y[0] = x[0]\n",
    "    y[-1] = x[-1]\n",
    "    for _ in range(steps):\n",
    "        for i in range(1, N-1):\n",
    "            y[i] = .25 * ( y[i-1] + 2 * y[i] + y[i+1] )\n",
    "        x, y = y, x # swap for next step\n",
    "    return x"
   ]
  },
  {
   "cell_type": "code",
   "execution_count": null,
   "metadata": {},
   "outputs": [],
   "source": [
    "ct = %timeit -o y = blur_cython_typed(x, steps)\n",
    "t_ct = ct.best\n",
    "\n",
    "times.append(t_ct)\n",
    "labels.append(\"cython (types)\")\n",
    "plot_times()"
   ]
  },
  {
   "cell_type": "markdown",
   "metadata": {},
   "source": [
    "We can furter optimize with Cython macros,\n",
    "which disable bounds checking and negative indexing,\n",
    "and avoiding the Python variable swaping by using indices into a single array:"
   ]
  },
  {
   "cell_type": "code",
   "execution_count": null,
   "metadata": {
    "scrolled": false
   },
   "outputs": [],
   "source": [
    "%%cython -a\n",
    "#cython: boundscheck=False\n",
    "#cython: wraparound=False\n",
    "\n",
    "import numpy as np\n",
    "cimport numpy as np\n",
    "\n",
    "def blur_cython_optimized(np.ndarray[double, ndim=1] x, int steps=1024):\n",
    "    cdef size_t N = x.shape[0]\n",
    "    cdef np.ndarray[double, ndim=2] y\n",
    "    y = np.empty((2, N), dtype=np.float64)\n",
    "    y[0,:] = x\n",
    "    y[1,0] = x[0]\n",
    "    y[1,N-1] = x[N-1]\n",
    "    \n",
    "    cdef size_t _, i, j=0, k=1\n",
    "    for _ in range(steps):\n",
    "        j = _ % 2\n",
    "        k = 1 - j\n",
    "        for i in range(1, N-1):\n",
    "            y[k,i] = .25 * ( y[j,i-1] + 2 * y[j,i] + y[j,i+1] )\n",
    "    return y[k]"
   ]
  },
  {
   "cell_type": "markdown",
   "metadata": {},
   "source": [
    "Note how there is now zero yellow called in any of the loops,\n",
    "only in the initial copy of the input array."
   ]
  },
  {
   "cell_type": "code",
   "execution_count": null,
   "metadata": {},
   "outputs": [],
   "source": [
    "copt = %timeit -o y = blur_cython_optimized(x, steps)\n",
    "t_copt = copt.best\n",
    "times.append(t_copt)\n",
    "labels.append(\"cython (optimized)\")\n",
    "plot_times()"
   ]
  },
  {
   "cell_type": "code",
   "execution_count": null,
   "metadata": {},
   "outputs": [],
   "source": [
    "y = blur_cython_optimized(x, steps)\n",
    "plt.plot(t, x, '--')\n",
    "plt.plot(t, y)"
   ]
  },
  {
   "cell_type": "markdown",
   "metadata": {},
   "source": [
    "## numba\n",
    "\n",
    "[numba](http://numba.pydata.org/) is a library that attempts to automatically do type-based optimizations like we did with Cython.\n",
    "To use numba, you decorate functions with `@autojit`."
   ]
  },
  {
   "cell_type": "code",
   "execution_count": null,
   "metadata": {},
   "outputs": [],
   "source": [
    "import numba\n",
    "\n",
    "@numba.autojit\n",
    "def blur_numba(x, steps=1024):\n",
    "    \"\"\"identical to blur_py, other than the decorator\"\"\"\n",
    "    x = 1 * x # copy\n",
    "    y = np.empty_like(x)\n",
    "    y[0] = x[0]\n",
    "    y[-1] = x[-1]\n",
    "    for _ in range(steps):\n",
    "        for i in range(1, len(x)-1):\n",
    "            y[i] = .25 * ( y[i-1] + 2 * y[i] + y[i+1] )\n",
    "        x, y = y, x # swap for next step\n",
    "    return x\n",
    "\n",
    "y = blur_numba(x, steps)"
   ]
  },
  {
   "cell_type": "code",
   "execution_count": null,
   "metadata": {},
   "outputs": [],
   "source": [
    "nb = %timeit -o blur_numba(x, steps)\n",
    "t_nb = nb.best\n",
    "times.append(t_nb)\n",
    "labels.append(\"numba\")\n",
    "plot_times()"
   ]
  },
  {
   "cell_type": "markdown",
   "metadata": {},
   "source": [
    "What's impressive about numba in this case\n",
    "is that it is able to beat all but the most optimized of our implementations without any help.\n",
    "Like Cython, numba can do an even better job when you provide it with more information about how a function will be called."
   ]
  },
  {
   "cell_type": "markdown",
   "metadata": {},
   "source": [
    "## Profiling"
   ]
  },
  {
   "cell_type": "code",
   "execution_count": null,
   "metadata": {},
   "outputs": [],
   "source": [
    "%%writefile profileme.py\n",
    "import os\n",
    "import glob\n",
    "list(os.walk('/tmp'))"
   ]
  },
  {
   "cell_type": "code",
   "execution_count": null,
   "metadata": {},
   "outputs": [],
   "source": [
    "!python -m cProfile profileme.py"
   ]
  },
  {
   "cell_type": "code",
   "execution_count": null,
   "metadata": {},
   "outputs": [],
   "source": [
    "import os\n",
    "import cProfile\n",
    "cProfile.run(\"list(os.walk('/tmp'))\")"
   ]
  },
  {
   "cell_type": "code",
   "execution_count": null,
   "metadata": {},
   "outputs": [],
   "source": [
    "%prun list(os.walk('/tmp'))"
   ]
  },
  {
   "cell_type": "code",
   "execution_count": null,
   "metadata": {
    "collapsed": true
   },
   "outputs": [],
   "source": [
    "%load_ext snakeviz"
   ]
  },
  {
   "cell_type": "code",
   "execution_count": null,
   "metadata": {},
   "outputs": [],
   "source": [
    "%snakeviz list(os.walk('/usr/local'))"
   ]
  }
 ],
 "metadata": {
  "kernelspec": {
   "display_name": "Python 3",
   "language": "python",
   "name": "python3"
  },
  "language_info": {
   "codemirror_mode": {
    "name": "ipython",
    "version": 3
   },
   "file_extension": ".py",
   "mimetype": "text/x-python",
   "name": "python",
   "nbconvert_exporter": "python",
   "pygments_lexer": "ipython3",
   "version": "3.6.0"
  }
 },
 "nbformat": 4,
 "nbformat_minor": 1
}
